{
 "cells": [
  {
   "cell_type": "markdown",
   "id": "8144719e",
   "metadata": {},
   "source": [
    "# Task 5 Basic"
   ]
  },
  {
   "cell_type": "markdown",
   "id": "f07228c9",
   "metadata": {},
   "source": [
    "### detect floating point number"
   ]
  },
  {
   "cell_type": "code",
   "execution_count": null,
   "id": "e9d035e7",
   "metadata": {},
   "outputs": [],
   "source": [
    "import re\n",
    "\n",
    "def function(n_str):\n",
    "    for i in range(n_str):\n",
    "        string = input()\n",
    "        val = bool(re.match(r'^[-+]?[0-9]*\\.[0-9]+$', string))\n",
    "        print(val)\n",
    "\n",
    "string = int(input())\n",
    "function(string)"
   ]
  },
  {
   "cell_type": "markdown",
   "id": "91099682",
   "metadata": {},
   "source": [
    "### re.split()"
   ]
  },
  {
   "cell_type": "code",
   "execution_count": null,
   "id": "7d1550b8",
   "metadata": {},
   "outputs": [],
   "source": [
    "regex_pattern = r\"[,.]\"\t# Do not delete 'r'.\n",
    "\n",
    "import re\n",
    "print(\"\\n\".join(re.split(regex_pattern, input())))"
   ]
  },
  {
   "cell_type": "markdown",
   "id": "e45bb41c",
   "metadata": {},
   "source": [
    "### group(), groups(), groupdict()"
   ]
  },
  {
   "cell_type": "code",
   "execution_count": null,
   "id": "9e4d8612",
   "metadata": {},
   "outputs": [],
   "source": [
    "import re\n",
    "\n",
    "string =input()\n",
    "\n",
    "match = re.findall(r\"([A-Za-z0-9])\\1+\",string)\n",
    "\n",
    "if match:\n",
    "    print(match[0])\n",
    "else:\n",
    "    print(-1)"
   ]
  },
  {
   "cell_type": "markdown",
   "id": "e3cd2cbb",
   "metadata": {},
   "source": [
    "### re.findall() and re.finditer()"
   ]
  },
  {
   "cell_type": "code",
   "execution_count": null,
   "id": "15e2a808",
   "metadata": {},
   "outputs": [],
   "source": [
    "import re\n",
    "\n",
    "string = input()\n",
    "\n",
    "match = re.findall(r'(?<=[QWRTYPSDFGHJKLZXCVBNMqwrtypsdfghjklzxcvbnm])[aeiouAEIOU]{2,}(?=[QWRTYPSDFGHJKLZXCVBNMqwrtypsdfghjklzxcvbnm])', string)\n",
    "\n",
    "if len(match) > 0:\n",
    "    for element in match:\n",
    "        print(element)\n",
    "else:\n",
    "    print(-1)"
   ]
  },
  {
   "cell_type": "markdown",
   "id": "4fbb1e2b",
   "metadata": {},
   "source": [
    "### re.start() and re.end()"
   ]
  },
  {
   "cell_type": "code",
   "execution_count": null,
   "id": "35a579f3",
   "metadata": {},
   "outputs": [],
   "source": [
    "import re\n",
    "\n",
    "string1 = input()\n",
    "string2 = input()\n",
    "result = False\n",
    "\n",
    "match = re.finditer(r\"(?=(\" + string2 + \"))\", string1)\n",
    "\n",
    "for i in match:\n",
    "    result = True\n",
    "    print((i.start(1), i.end(1) - 1))\n",
    "\n",
    "if result != True:\n",
    "    print((-1, -1))"
   ]
  },
  {
   "cell_type": "markdown",
   "id": "f731d443",
   "metadata": {},
   "source": [
    "### regex substitution"
   ]
  },
  {
   "cell_type": "code",
   "execution_count": null,
   "id": "646bf2a7",
   "metadata": {},
   "outputs": [],
   "source": [
    "import re\n",
    "\n",
    "def func(match):\n",
    "    if match.group(1) != '&&':\n",
    "        return 'or'\n",
    "    else:\n",
    "        return 'and'\n",
    "\n",
    "for i in range(int(input())):\n",
    "    print(re.sub(r\"(?<= )(\\|\\||&&)(?= )\", func,input()))"
   ]
  },
  {
   "cell_type": "markdown",
   "id": "c9051442",
   "metadata": {},
   "source": [
    "### validating roman numerals"
   ]
  },
  {
   "cell_type": "code",
   "execution_count": null,
   "id": "0e6a2d45",
   "metadata": {},
   "outputs": [],
   "source": [
    "thousand = \"M{0,3}\"\n",
    "hundred = \"(C[MD]|D?C{0,3})\"\n",
    "ten = \"(X[CL]|L?X{0,3})\"\n",
    "zero = \"(I[VX]|V?I{0,3})\"\n",
    "\n",
    "\n",
    "regex_pattern = r\"%s%s%s%s$\" % (thousand, hundred, ten, zero) # Do not delete 'r'.\n",
    "\n",
    "import re\n",
    "print(str(bool(re.match(regex_pattern, input()))))"
   ]
  },
  {
   "cell_type": "markdown",
   "id": "3f3b9635",
   "metadata": {},
   "source": [
    "### validating phone numbers"
   ]
  },
  {
   "cell_type": "code",
   "execution_count": null,
   "id": "0a82cfdf",
   "metadata": {},
   "outputs": [],
   "source": [
    "import re\n",
    "\n",
    "n = int(input())\n",
    "\n",
    "for i in range(n):\n",
    "    num = input()\n",
    "    \n",
    "    if(len(num)==10 and num.isdigit()):\n",
    "        opt = re.findall(r\"^[789]\\d{9}$\",num)\n",
    "        \n",
    "        if(len(opt)==1):\n",
    "            print(\"YES\")\n",
    "        else:\n",
    "            print(\"NO\")\n",
    "            \n",
    "    else:\n",
    "        print(\"NO\")"
   ]
  },
  {
   "cell_type": "markdown",
   "id": "82f352ef",
   "metadata": {},
   "source": [
    "### validating and parsing email address"
   ]
  },
  {
   "cell_type": "code",
   "execution_count": null,
   "id": "3394771d",
   "metadata": {},
   "outputs": [],
   "source": [
    "import re\n",
    "\n",
    "n = int(input())\n",
    "\n",
    "for i in range(n):\n",
    "    name, mail = input().split(' ')\n",
    "    \n",
    "    m = re.match(r'<[A-Za-z](\\w|-|\\.|_)+@[A-Za-z]+\\.[A-Za-z]{1,3}>', mail)\n",
    "    if m:\n",
    "        print(name, mail)\n",
    "    else:\n",
    "        None"
   ]
  },
  {
   "cell_type": "markdown",
   "id": "c0f886e4",
   "metadata": {},
   "source": [
    "### hex color code"
   ]
  },
  {
   "cell_type": "code",
   "execution_count": null,
   "id": "f5e6e7c7",
   "metadata": {},
   "outputs": [],
   "source": [
    "import re\n",
    "\n",
    "text = int(input())\n",
    "\n",
    "value = False\n",
    "\n",
    "for i in range(text):\n",
    "    ipt = input()\n",
    "    if '{' in ipt:\n",
    "        value = True\n",
    "    elif '}' in ipt:\n",
    "        value = False\n",
    "    elif value:\n",
    "        for match in re.findall('#[0-9a-fA-F]{3,6}', ipt):\n",
    "            print(match)"
   ]
  },
  {
   "cell_type": "markdown",
   "id": "ede141e5",
   "metadata": {},
   "source": [
    "### html parser - 1"
   ]
  },
  {
   "cell_type": "code",
   "execution_count": null,
   "id": "21c8c8bb",
   "metadata": {},
   "outputs": [],
   "source": [
    "from html.parser import HTMLParser\n",
    "\n",
    "class html_parser(HTMLParser):\n",
    "    def handle_starttag(self, tag, attribute):\n",
    "        print ('Start :', tag)\n",
    "        for i in attribute:\n",
    "            print ('->', i[0], '>', i[1])\n",
    "\n",
    "    def handle_endtag(self, tag):\n",
    "        print ('End   :', tag)\n",
    "\n",
    "    def handle_startendtag(self, tag, attribute):\n",
    "        print ('Empty :', tag)\n",
    "        for i in attribute:\n",
    "            print ('->', i[0], '>', i[1])\n",
    "\n",
    "parser = html_parser()\n",
    "for i in range(int(input())):\n",
    "    parser.feed(input())"
   ]
  },
  {
   "cell_type": "markdown",
   "id": "d5489a51",
   "metadata": {},
   "source": [
    "### html parser - 2"
   ]
  },
  {
   "cell_type": "code",
   "execution_count": null,
   "id": "17983ac7",
   "metadata": {},
   "outputs": [],
   "source": [
    "from html.parser import HTMLParser\n",
    "import re\n",
    "\n",
    "class func(HTMLParser):\n",
    "    def text(self, data):\n",
    "        if re.findall(r'\\n',data):\n",
    "            print (\">>> Multi-line Comment \\n\",data)\n",
    "        else:\n",
    "            print (\">>> Single-line Comment \\n\",data)\n",
    "            \n",
    "    def value(self, data):\n",
    "        if len(data) >1:\n",
    "            print (\">>> Data\\n\",data)\n",
    "html = \"\"       \n",
    "for i in range(int(input())):\n",
    "    html += input().strip()\n",
    "    html += '\\n'\n",
    "    \n",
    "parser = func()\n",
    "parser.feed(html)\n",
    "parser.close()"
   ]
  },
  {
   "cell_type": "markdown",
   "id": "cfc492da",
   "metadata": {},
   "source": [
    "### detect html tags, attribute, attributes value"
   ]
  },
  {
   "cell_type": "code",
   "execution_count": null,
   "id": "3af2a437",
   "metadata": {},
   "outputs": [],
   "source": [
    "from html.parser import HTMLParser\n",
    "\n",
    "class func(HTMLParser):\n",
    "    def handle_starttag(self, tag, attribute):\n",
    "        print(tag)\n",
    "        for k, v in attribute:\n",
    "            print(\"->\", k, \">\", v)\n",
    "\n",
    "    def handle_startendtag(self, tag, attribute):\n",
    "        print(tag)\n",
    "        for k, v in attribute:\n",
    "            print(\"->\", k, \">\", v)\n",
    "\n",
    "html = ''\n",
    "for i in range(int(input())):\n",
    "    html += input().strip() + '\\n'\n",
    "\n",
    "parser = func()\n",
    "parser.feed(html)\n",
    "parser.close()"
   ]
  },
  {
   "cell_type": "markdown",
   "id": "dfd693a1",
   "metadata": {},
   "source": [
    "### validating uid"
   ]
  },
  {
   "cell_type": "code",
   "execution_count": null,
   "id": "5ab12ccd",
   "metadata": {},
   "outputs": [],
   "source": [
    "import re\n",
    "\n",
    "for i in range(int(input())):\n",
    "    n = input().strip()\n",
    "    \n",
    "    if n.isalnum() and len(n) == 10:\n",
    "        \n",
    "        if bool(re.search(r'(.*[A-Z]){2,}',n)) and bool(re.search(r'(.*[0-9]){3,}',n)):\n",
    "            \n",
    "            if re.search(r'.*(.).*\\1+.*',n):\n",
    "                print('Invalid')\n",
    "            else:\n",
    "                print('Valid')\n",
    "                \n",
    "        else:\n",
    "            print('Invalid')\n",
    "            \n",
    "    else:\n",
    "        print('Invalid')"
   ]
  },
  {
   "cell_type": "markdown",
   "id": "b1b4e3f9",
   "metadata": {},
   "source": [
    "### validating credit card numbers"
   ]
  },
  {
   "cell_type": "code",
   "execution_count": null,
   "id": "8f4d137e",
   "metadata": {},
   "outputs": [],
   "source": [
    "import re\n",
    "\n",
    "n = int(input())\n",
    "\n",
    "for i in range(n):\n",
    "    num = input()\n",
    "\n",
    "    pattern1 = bool(re.match(r\"^[456]\\d{15}$\", num))\n",
    "    pattern2 = bool(re.match(r\"^[456]\\d{3}\\-\\d{4}\\-\\d{4}\\-\\d{4}$\", num))\n",
    "    num = num.replace(\"-\", \"\")\n",
    "    \n",
    "    pattern = bool(re.match(r\"(?!.*(\\d)(-?\\1){3})\", num))\n",
    "    \n",
    "    if (pattern1 or pattern2) and pattern:\n",
    "        print(\"Valid\")\n",
    "    else:\n",
    "        print(\"Invalid\")"
   ]
  }
 ],
 "metadata": {
  "kernelspec": {
   "display_name": "Python 3 (ipykernel)",
   "language": "python",
   "name": "python3"
  },
  "language_info": {
   "codemirror_mode": {
    "name": "ipython",
    "version": 3
   },
   "file_extension": ".py",
   "mimetype": "text/x-python",
   "name": "python",
   "nbconvert_exporter": "python",
   "pygments_lexer": "ipython3",
   "version": "3.10.8"
  }
 },
 "nbformat": 4,
 "nbformat_minor": 5
}
